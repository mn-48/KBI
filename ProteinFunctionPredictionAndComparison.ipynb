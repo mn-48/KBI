{
  "nbformat": 4,
  "nbformat_minor": 0,
  "metadata": {
    "accelerator": "GPU",
    "colab": {
      "name": "ProteinFunctionPredictionAndComparison.ipynb",
      "provenance": [],
      "collapsed_sections": [],
      "machine_shape": "hm",
      "include_colab_link": true
    },
    "kernelspec": {
      "display_name": "Python 3",
      "name": "python3"
    },
    "language_info": {
      "codemirror_mode": {
        "name": "ipython",
        "version": 3
      },
      "file_extension": ".py",
      "mimetype": "text/x-python",
      "name": "python",
      "nbconvert_exporter": "python",
      "pygments_lexer": "ipython3",
      "version": "3.7.6"
    }
  },
  "cells": [
    {
      "cell_type": "markdown",
      "metadata": {
        "id": "view-in-github",
        "colab_type": "text"
      },
      "source": [
        "<a href=\"https://colab.research.google.com/github/MdNazmul9/KBI/blob/master/ProteinFunctionPredictionAndComparison.ipynb\" target=\"_parent\"><img src=\"https://colab.research.google.com/assets/colab-badge.svg\" alt=\"Open In Colab\"/></a>"
      ]
    },
    {
      "cell_type": "code",
      "metadata": {
        "id": "yeWfTNZALgCr"
      },
      "source": [
        "# ################Protein Fnction Prediction#####################\n"
      ],
      "execution_count": 1,
      "outputs": []
    },
    {
      "cell_type": "code",
      "metadata": {
        "id": "1CHhgx26mprD"
      },
      "source": [
        "#!pip install Keras"
      ],
      "execution_count": 2,
      "outputs": []
    },
    {
      "cell_type": "code",
      "metadata": {
        "id": "GgXKpi-CLZwz"
      },
      "source": [
        "\n",
        "from __future__ import unicode_literals, print_function, division\n",
        "from io import open\n",
        "import unicodedata\n",
        "\n",
        "%matplotlib inline\n",
        "\n",
        "import os\n",
        "import gc\n",
        "\n",
        "import re\n",
        "import random\n",
        "\n",
        "import torch\n",
        "import torch.nn as nn\n",
        "from torch import optim\n",
        "import torch.nn.functional as F\n",
        "\n",
        "device = torch.device(\"cuda\" if torch.cuda.is_available() else \"cpu\")\n",
        "\n",
        "from keras.layers import LSTM\n",
        "\n",
        "import numpy as np\n",
        "import pandas as pd\n",
        "import matplotlib.pyplot as plt\n",
        "import seaborn as sns\n",
        "\n",
        "from collections import Counter\n",
        "from prettytable import PrettyTable\n",
        "from IPython.display import Image\n",
        "\n",
        "from sklearn.preprocessing import LabelEncoder\n",
        "\n",
        "from keras.models import Model\n",
        "from keras.regularizers import l2\n",
        "from keras.constraints import max_norm\n",
        "from keras.utils import to_categorical\n",
        "from keras.preprocessing.text import Tokenizer\n",
        "from keras.preprocessing.sequence import pad_sequences\n",
        "from keras.callbacks import EarlyStopping\n",
        "from keras.layers import Input, Dense, Dropout, Flatten, Activation\n",
        "from keras.layers import Conv1D, Add, MaxPooling1D, BatchNormalization\n",
        "#from keras.layers import Embedding, Bidirectional, CuDNNLSTM, GlobalMaxPooling1D\n",
        "from tensorflow.compat.v1.keras.layers import Embedding, Bidirectional, CuDNNLSTM, GlobalMaxPooling1D\n"
      ],
      "execution_count": 3,
      "outputs": []
    },
    {
      "cell_type": "code",
      "metadata": {
        "colab": {
          "base_uri": "https://localhost:8080/"
        },
        "id": "08piHRVUJhlJ",
        "outputId": "f90a32cb-03e3-4e46-e35a-b899d28932ec"
      },
      "source": [
        "from google.colab import drive\n",
        "drive.mount('/content/gdrive')"
      ],
      "execution_count": 4,
      "outputs": [
        {
          "output_type": "stream",
          "text": [
            "Mounted at /content/gdrive\n"
          ],
          "name": "stdout"
        }
      ]
    },
    {
      "cell_type": "code",
      "metadata": {
        "colab": {
          "base_uri": "https://localhost:8080/",
          "height": 35
        },
        "id": "uyRHpOoBOyby",
        "outputId": "e9fed0ad-ebd3-4b6d-e689-1be7ac1cf46c"
      },
      "source": [
        "\"\"\"from google.colab import drive\n",
        "drive.mount('/content/drive')\"\"\""
      ],
      "execution_count": 5,
      "outputs": [
        {
          "output_type": "execute_result",
          "data": {
            "application/vnd.google.colaboratory.intrinsic+json": {
              "type": "string"
            },
            "text/plain": [
              "\"from google.colab import drive\\ndrive.mount('/content/drive')\""
            ]
          },
          "metadata": {
            "tags": []
          },
          "execution_count": 5
        }
      ]
    },
    {
      "cell_type": "code",
      "metadata": {
        "id": "X39M3ECxI-1s"
      },
      "source": [
        "import logging\n",
        "import tensorflow as tf\n",
        "#tf.logging.set_verbosity(tf.logging.ERROR)\n",
        "#tf.compat.v1.logging.set_verbosity(tf.logging.ERROR)\n",
        "tf.compat.v1.logging.set_verbosity(tf.compat.v1.logging.ERROR)"
      ],
      "execution_count": 6,
      "outputs": []
    },
    {
      "cell_type": "code",
      "metadata": {
        "id": "uBxDzLcdqiMG"
      },
      "source": [
        ""
      ],
      "execution_count": 6,
      "outputs": []
    },
    {
      "cell_type": "code",
      "metadata": {
        "id": "tzq3kNlxlvFP"
      },
      "source": [
        ""
      ],
      "execution_count": 6,
      "outputs": []
    },
    {
      "cell_type": "code",
      "metadata": {
        "colab": {
          "base_uri": "https://localhost:8080/"
        },
        "id": "vsVAwOfkI-1x",
        "outputId": "a044051b-c133-4bf8-dcd8-ed4473493728"
      },
      "source": [
        "data_path = '/content/gdrive/My Drive/Case_Study/pfam/random_split/'\n",
        "print('Available data', os.listdir(data_path))"
      ],
      "execution_count": 7,
      "outputs": [
        {
          "output_type": "stream",
          "text": [
            "Available data ['train', 'dev', 'test', 'model2.h5', 'model1.h5']\n"
          ],
          "name": "stdout"
        }
      ]
    },
    {
      "cell_type": "code",
      "metadata": {
        "id": "MHAe6ty6I-11"
      },
      "source": [
        "\n",
        "def read_data(partition):\n",
        "  data = []\n",
        "  for fn in os.listdir(os.path.join(data_path, partition)):\n",
        "    with open(os.path.join(data_path, partition, fn)) as f:\n",
        "      data.append(pd.read_csv(f, index_col=None))\n",
        "  return pd.concat(data)"
      ],
      "execution_count": 8,
      "outputs": []
    },
    {
      "cell_type": "code",
      "metadata": {
        "id": "KoT8L5_EI-15"
      },
      "source": [
        "\n",
        "df_train = read_data('train')\n",
        "df_val = read_data('dev')\n",
        "df_test = read_data('test')"
      ],
      "execution_count": 9,
      "outputs": []
    },
    {
      "cell_type": "code",
      "metadata": {
        "colab": {
          "base_uri": "https://localhost:8080/"
        },
        "id": "p3N7KdpVI-19",
        "outputId": "cb603e9c-187f-4f31-e6a2-afd829c8ce6d"
      },
      "source": [
        "df_train.info()"
      ],
      "execution_count": 10,
      "outputs": [
        {
          "output_type": "stream",
          "text": [
            "<class 'pandas.core.frame.DataFrame'>\n",
            "Int64Index: 1100131 entries, 0 to 13389\n",
            "Data columns (total 5 columns):\n",
            " #   Column            Non-Null Count    Dtype \n",
            "---  ------            --------------    ----- \n",
            " 0   family_id         1100131 non-null  object\n",
            " 1   sequence_name     1100131 non-null  object\n",
            " 2   family_accession  1100131 non-null  object\n",
            " 3   aligned_sequence  1100131 non-null  object\n",
            " 4   sequence          1100131 non-null  object\n",
            "dtypes: object(5)\n",
            "memory usage: 50.4+ MB\n"
          ],
          "name": "stdout"
        }
      ]
    },
    {
      "cell_type": "code",
      "metadata": {
        "colab": {
          "base_uri": "https://localhost:8080/",
          "height": 258
        },
        "id": "2Pkdf3oPI-2D",
        "outputId": "fd82f986-2cd8-45f5-9a77-5dc268b67481"
      },
      "source": [
        "df_train.head()"
      ],
      "execution_count": 11,
      "outputs": [
        {
          "output_type": "execute_result",
          "data": {
            "text/html": [
              "<div>\n",
              "<style scoped>\n",
              "    .dataframe tbody tr th:only-of-type {\n",
              "        vertical-align: middle;\n",
              "    }\n",
              "\n",
              "    .dataframe tbody tr th {\n",
              "        vertical-align: top;\n",
              "    }\n",
              "\n",
              "    .dataframe thead th {\n",
              "        text-align: right;\n",
              "    }\n",
              "</style>\n",
              "<table border=\"1\" class=\"dataframe\">\n",
              "  <thead>\n",
              "    <tr style=\"text-align: right;\">\n",
              "      <th></th>\n",
              "      <th>family_id</th>\n",
              "      <th>sequence_name</th>\n",
              "      <th>family_accession</th>\n",
              "      <th>aligned_sequence</th>\n",
              "      <th>sequence</th>\n",
              "    </tr>\n",
              "  </thead>\n",
              "  <tbody>\n",
              "    <tr>\n",
              "      <th>0</th>\n",
              "      <td>GMC_oxred_C</td>\n",
              "      <td>A4WZS5_RHOS5/416-539</td>\n",
              "      <td>PF05199.13</td>\n",
              "      <td>PHPE.SRIRLST.RRDAHGMP.....IP.RIESRLGP............</td>\n",
              "      <td>PHPESRIRLSTRRDAHGMPIPRIESRLGPDAFARLRFMARTCRAIL...</td>\n",
              "    </tr>\n",
              "    <tr>\n",
              "      <th>1</th>\n",
              "      <td>DUF2887</td>\n",
              "      <td>K9QI92_9NOSO/3-203</td>\n",
              "      <td>PF11103.8</td>\n",
              "      <td>RDSIYYQIFKRFPALIFEL..VD.NRPPQAQNYRFESVEVKETAFR...</td>\n",
              "      <td>RDSIYYQIFKRFPALIFELVDNRPPQAQNYRFESVEVKETAFRIDG...</td>\n",
              "    </tr>\n",
              "    <tr>\n",
              "      <th>2</th>\n",
              "      <td>zf-IS66</td>\n",
              "      <td>Q92LC9_RHIME/32-75</td>\n",
              "      <td>PF13005.7</td>\n",
              "      <td>.TCCPDCGG.E..LRLVGED.AS....EILDMI.AAQMKVIEVARL...</td>\n",
              "      <td>TCCPDCGGELRLVGEDASEILDMIAAQMKVIEVARLKKSCRCCE</td>\n",
              "    </tr>\n",
              "    <tr>\n",
              "      <th>3</th>\n",
              "      <td>Asp_decarbox</td>\n",
              "      <td>X2GQZ4_9BACI/1-115</td>\n",
              "      <td>PF02261.16</td>\n",
              "      <td>MLRMMMNSKIHRATVTEADLNYVGSITIDEDILDAVGMLPNEKVHI...</td>\n",
              "      <td>MLRMMMNSKIHRATVTEADLNYVGSITIDEDILDAVGMLPNEKVHI...</td>\n",
              "    </tr>\n",
              "    <tr>\n",
              "      <th>4</th>\n",
              "      <td>Filamin</td>\n",
              "      <td>A7SQM3_NEMVE/342-439</td>\n",
              "      <td>PF00630.19</td>\n",
              "      <td>TACPKQ.CTA....RGLG.............LK.AAPVT.QPT..R...</td>\n",
              "      <td>TACPKQCTARGLGLKAAPVTQPTRFVVILNDCHGQPLGRSEGELEV...</td>\n",
              "    </tr>\n",
              "  </tbody>\n",
              "</table>\n",
              "</div>"
            ],
            "text/plain": [
              "      family_id  ...                                           sequence\n",
              "0   GMC_oxred_C  ...  PHPESRIRLSTRRDAHGMPIPRIESRLGPDAFARLRFMARTCRAIL...\n",
              "1       DUF2887  ...  RDSIYYQIFKRFPALIFELVDNRPPQAQNYRFESVEVKETAFRIDG...\n",
              "2       zf-IS66  ...       TCCPDCGGELRLVGEDASEILDMIAAQMKVIEVARLKKSCRCCE\n",
              "3  Asp_decarbox  ...  MLRMMMNSKIHRATVTEADLNYVGSITIDEDILDAVGMLPNEKVHI...\n",
              "4       Filamin  ...  TACPKQCTARGLGLKAAPVTQPTRFVVILNDCHGQPLGRSEGELEV...\n",
              "\n",
              "[5 rows x 5 columns]"
            ]
          },
          "metadata": {
            "tags": []
          },
          "execution_count": 11
        }
      ]
    },
    {
      "cell_type": "code",
      "metadata": {
        "colab": {
          "base_uri": "https://localhost:8080/",
          "height": 35
        },
        "id": "zU4ri1PlI-2M",
        "outputId": "aada5bb7-2ce8-4000-882c-2f104f8f805f"
      },
      "source": [
        "df_train.head(1)['sequence'].values[0]"
      ],
      "execution_count": 12,
      "outputs": [
        {
          "output_type": "execute_result",
          "data": {
            "application/vnd.google.colaboratory.intrinsic+json": {
              "type": "string"
            },
            "text/plain": [
              "'PHPESRIRLSTRRDAHGMPIPRIESRLGPDAFARLRFMARTCRAILAAAGCAAPFEEFSSADAFSSTHVFGTCRMGHDPMRNVVDGWGRSHRWPNLFVADASLFPSSGGGESPGLTIQALALRT'"
            ]
          },
          "metadata": {
            "tags": []
          },
          "execution_count": 12
        }
      ]
    },
    {
      "cell_type": "code",
      "metadata": {
        "colab": {
          "base_uri": "https://localhost:8080/"
        },
        "id": "B_ArTt2dI-2R",
        "outputId": "ef8a27d6-3cb4-4cd2-d964-60d6b042cfe1"
      },
      "source": [
        "print('Train size: ', len(df_train))\n",
        "print('Val size: ', len(df_val))\n",
        "print('Test size: ', len(df_test))"
      ],
      "execution_count": 13,
      "outputs": [
        {
          "output_type": "stream",
          "text": [
            "Train size:  1100131\n",
            "Val size:  126171\n",
            "Test size:  126171\n"
          ],
          "name": "stdout"
        }
      ]
    },
    {
      "cell_type": "code",
      "metadata": {
        "id": "AFLh2CCOI-2U"
      },
      "source": [
        "def calc_unique_cls(train, test, val):\n",
        "  \"\"\"\n",
        "  Prints # unique classes in data sets.\n",
        "  \"\"\"\n",
        "  train_unq = np.unique(train['family_accession'].values)\n",
        "  val_unq = np.unique(val['family_accession'].values)\n",
        "  test_unq = np.unique(test['family_accession'].values)\n",
        "\n",
        "  print('Number of unique classes in Train: ', len(train_unq))\n",
        "  print('Number of unique classes in Val: ', len(val_unq))\n",
        "  print('Number of unique classes in Test: ', len(test_unq))"
      ],
      "execution_count": 14,
      "outputs": []
    },
    {
      "cell_type": "code",
      "metadata": {
        "colab": {
          "base_uri": "https://localhost:8080/"
        },
        "id": "PgWOAnTqI-2b",
        "outputId": "ee2aec97-199a-4727-e9f4-9cd9a3c6950f"
      },
      "source": [
        "calc_unique_cls(df_train, df_test, df_val)"
      ],
      "execution_count": 15,
      "outputs": [
        {
          "output_type": "stream",
          "text": [
            "Number of unique classes in Train:  17929\n",
            "Number of unique classes in Val:  13071\n",
            "Number of unique classes in Test:  13071\n"
          ],
          "name": "stdout"
        }
      ]
    },
    {
      "cell_type": "code",
      "metadata": {
        "id": "bk_Z62XfI-2g"
      },
      "source": [
        "df_train['seq_char_count']= df_train['sequence'].apply(lambda x: len(x))\n",
        "df_val['seq_char_count']= df_val['sequence'].apply(lambda x: len(x))\n",
        "df_test['seq_char_count']= df_test['sequence'].apply(lambda x: len(x))"
      ],
      "execution_count": 16,
      "outputs": []
    },
    {
      "cell_type": "code",
      "metadata": {
        "id": "9p2ymsR2I-2l"
      },
      "source": [
        "def plot_seq_count(df, data_name):\n",
        "  sns.distplot(df['seq_char_count'].values)\n",
        "  plt.title(f'Sequence char count: {data_name}')\n",
        "  plt.grid(True)"
      ],
      "execution_count": 17,
      "outputs": []
    },
    {
      "cell_type": "code",
      "metadata": {
        "colab": {
          "base_uri": "https://localhost:8080/",
          "height": 390
        },
        "id": "knulDZoVI-2r",
        "outputId": "460a1ef2-668c-4958-f9e6-4b7e818b44d8"
      },
      "source": [
        "plt.subplot(1, 3, 1)\n",
        "plot_seq_count(df_train, 'Train')\n",
        "\n",
        "plt.subplot(1, 3, 2)\n",
        "plot_seq_count(df_val, 'Val')\n",
        "\n",
        "plt.subplot(1, 3, 3)\n",
        "plot_seq_count(df_test, 'Test')\n",
        "\n",
        "plt.subplots_adjust(right=3.0)\n",
        "plt.show()"
      ],
      "execution_count": 18,
      "outputs": [
        {
          "output_type": "stream",
          "text": [
            "/usr/local/lib/python3.7/dist-packages/seaborn/distributions.py:2557: FutureWarning: `distplot` is a deprecated function and will be removed in a future version. Please adapt your code to use either `displot` (a figure-level function with similar flexibility) or `histplot` (an axes-level function for histograms).\n",
            "  warnings.warn(msg, FutureWarning)\n",
            "/usr/local/lib/python3.7/dist-packages/seaborn/distributions.py:2557: FutureWarning: `distplot` is a deprecated function and will be removed in a future version. Please adapt your code to use either `displot` (a figure-level function with similar flexibility) or `histplot` (an axes-level function for histograms).\n",
            "  warnings.warn(msg, FutureWarning)\n",
            "/usr/local/lib/python3.7/dist-packages/seaborn/distributions.py:2557: FutureWarning: `distplot` is a deprecated function and will be removed in a future version. Please adapt your code to use either `displot` (a figure-level function with similar flexibility) or `histplot` (an axes-level function for histograms).\n",
            "  warnings.warn(msg, FutureWarning)\n"
          ],
          "name": "stderr"
        },
        {
          "output_type": "display_data",
          "data": {
            "image/png": "[encoded data removed]",
            "text/plain": [
              "<Figure size 432x288 with 3 Axes>"
            ]
          },
          "metadata": {
            "tags": [],
            "needs_background": "light"
          }
        }
      ]
    },
    {
      "cell_type": "code",
      "metadata": {
        "id": "Vt8nOTuwI-2v"
      },
      "source": [
        "def get_code_freq(df, data_name):\n",
        "  \n",
        "  df = df.apply(lambda x: \" \".join(x))\n",
        "  \n",
        "  codes = []\n",
        "  for i in df: # concatination of all codes\n",
        "    codes.extend(i)\n",
        "\n",
        "  codes_dict= Counter(codes)\n",
        "  codes_dict.pop(' ') # removing white space\n",
        "  \n",
        "  print(f'Codes: {data_name}')\n",
        "  print(f'Total unique codes: {len(codes_dict.keys())}')\n",
        "\n",
        "  df = pd.DataFrame({'Code': list(codes_dict.keys()), 'Freq': list(codes_dict.values())})\n",
        "  return df.sort_values('Freq', ascending=False).reset_index()[['Code', 'Freq']]"
      ],
      "execution_count": 19,
      "outputs": []
    },
    {
      "cell_type": "code",
      "metadata": {
        "colab": {
          "base_uri": "https://localhost:8080/",
          "height": 858
        },
        "id": "P6bOmcmZI-20",
        "outputId": "cc55d6bd-67ba-441d-ded1-b4b6c59d32fc"
      },
      "source": [
        "train_code_freq = get_code_freq(df_train['sequence'], 'Train')\n",
        "train_code_freq"
      ],
      "execution_count": 20,
      "outputs": [
        {
          "output_type": "stream",
          "text": [
            "Codes: Train\n",
            "Total unique codes: 25\n"
          ],
          "name": "stdout"
        },
        {
          "output_type": "execute_result",
          "data": {
            "text/html": [
              "<div>\n",
              "<style scoped>\n",
              "    .dataframe tbody tr th:only-of-type {\n",
              "        vertical-align: middle;\n",
              "    }\n",
              "\n",
              "    .dataframe tbody tr th {\n",
              "        vertical-align: top;\n",
              "    }\n",
              "\n",
              "    .dataframe thead th {\n",
              "        text-align: right;\n",
              "    }\n",
              "</style>\n",
              "<table border=\"1\" class=\"dataframe\">\n",
              "  <thead>\n",
              "    <tr style=\"text-align: right;\">\n",
              "      <th></th>\n",
              "      <th>Code</th>\n",
              "      <th>Freq</th>\n",
              "    </tr>\n",
              "  </thead>\n",
              "  <tbody>\n",
              "    <tr>\n",
              "      <th>0</th>\n",
              "      <td>L</td>\n",
              "      <td>17271999</td>\n",
              "    </tr>\n",
              "    <tr>\n",
              "      <th>1</th>\n",
              "      <td>A</td>\n",
              "      <td>14561575</td>\n",
              "    </tr>\n",
              "    <tr>\n",
              "      <th>2</th>\n",
              "      <td>V</td>\n",
              "      <td>12060260</td>\n",
              "    </tr>\n",
              "    <tr>\n",
              "      <th>3</th>\n",
              "      <td>G</td>\n",
              "      <td>11991696</td>\n",
              "    </tr>\n",
              "    <tr>\n",
              "      <th>4</th>\n",
              "      <td>E</td>\n",
              "      <td>10993951</td>\n",
              "    </tr>\n",
              "    <tr>\n",
              "      <th>5</th>\n",
              "      <td>S</td>\n",
              "      <td>10727973</td>\n",
              "    </tr>\n",
              "    <tr>\n",
              "      <th>6</th>\n",
              "      <td>I</td>\n",
              "      <td>10361299</td>\n",
              "    </tr>\n",
              "    <tr>\n",
              "      <th>7</th>\n",
              "      <td>R</td>\n",
              "      <td>9522760</td>\n",
              "    </tr>\n",
              "    <tr>\n",
              "      <th>8</th>\n",
              "      <td>D</td>\n",
              "      <td>9486638</td>\n",
              "    </tr>\n",
              "    <tr>\n",
              "      <th>9</th>\n",
              "      <td>K</td>\n",
              "      <td>9240898</td>\n",
              "    </tr>\n",
              "    <tr>\n",
              "      <th>10</th>\n",
              "      <td>T</td>\n",
              "      <td>9145378</td>\n",
              "    </tr>\n",
              "    <tr>\n",
              "      <th>11</th>\n",
              "      <td>P</td>\n",
              "      <td>7532684</td>\n",
              "    </tr>\n",
              "    <tr>\n",
              "      <th>12</th>\n",
              "      <td>F</td>\n",
              "      <td>7217592</td>\n",
              "    </tr>\n",
              "    <tr>\n",
              "      <th>13</th>\n",
              "      <td>N</td>\n",
              "      <td>6697402</td>\n",
              "    </tr>\n",
              "    <tr>\n",
              "      <th>14</th>\n",
              "      <td>Q</td>\n",
              "      <td>6326925</td>\n",
              "    </tr>\n",
              "    <tr>\n",
              "      <th>15</th>\n",
              "      <td>Y</td>\n",
              "      <td>5624644</td>\n",
              "    </tr>\n",
              "    <tr>\n",
              "      <th>16</th>\n",
              "      <td>M</td>\n",
              "      <td>3754966</td>\n",
              "    </tr>\n",
              "    <tr>\n",
              "      <th>17</th>\n",
              "      <td>H</td>\n",
              "      <td>3750128</td>\n",
              "    </tr>\n",
              "    <tr>\n",
              "      <th>18</th>\n",
              "      <td>C</td>\n",
              "      <td>2344450</td>\n",
              "    </tr>\n",
              "    <tr>\n",
              "      <th>19</th>\n",
              "      <td>W</td>\n",
              "      <td>2321496</td>\n",
              "    </tr>\n",
              "    <tr>\n",
              "      <th>20</th>\n",
              "      <td>X</td>\n",
              "      <td>1521</td>\n",
              "    </tr>\n",
              "    <tr>\n",
              "      <th>21</th>\n",
              "      <td>U</td>\n",
              "      <td>119</td>\n",
              "    </tr>\n",
              "    <tr>\n",
              "      <th>22</th>\n",
              "      <td>B</td>\n",
              "      <td>33</td>\n",
              "    </tr>\n",
              "    <tr>\n",
              "      <th>23</th>\n",
              "      <td>O</td>\n",
              "      <td>19</td>\n",
              "    </tr>\n",
              "    <tr>\n",
              "      <th>24</th>\n",
              "      <td>Z</td>\n",
              "      <td>8</td>\n",
              "    </tr>\n",
              "  </tbody>\n",
              "</table>\n",
              "</div>"
            ],
            "text/plain": [
              "   Code      Freq\n",
              "0     L  17271999\n",
              "1     A  14561575\n",
              "2     V  12060260\n",
              "3     G  11991696\n",
              "4     E  10993951\n",
              "5     S  10727973\n",
              "6     I  10361299\n",
              "7     R   9522760\n",
              "8     D   9486638\n",
              "9     K   9240898\n",
              "10    T   9145378\n",
              "11    P   7532684\n",
              "12    F   7217592\n",
              "13    N   6697402\n",
              "14    Q   6326925\n",
              "15    Y   5624644\n",
              "16    M   3754966\n",
              "17    H   3750128\n",
              "18    C   2344450\n",
              "19    W   2321496\n",
              "20    X      1521\n",
              "21    U       119\n",
              "22    B        33\n",
              "23    O        19\n",
              "24    Z         8"
            ]
          },
          "metadata": {
            "tags": []
          },
          "execution_count": 20
        }
      ]
    },
    {
      "cell_type": "code",
      "metadata": {
        "colab": {
          "base_uri": "https://localhost:8080/",
          "height": 765
        },
        "id": "0pFDqc1OI-24",
        "outputId": "3cfeafc7-aa9c-4c95-db23-091b3c05073c"
      },
      "source": [
        "val_code_freq = get_code_freq(df_val['sequence'], 'Val')\n",
        "val_code_freq"
      ],
      "execution_count": 21,
      "outputs": [
        {
          "output_type": "stream",
          "text": [
            "Codes: Val\n",
            "Total unique codes: 22\n"
          ],
          "name": "stdout"
        },
        {
          "output_type": "execute_result",
          "data": {
            "text/html": [
              "<div>\n",
              "<style scoped>\n",
              "    .dataframe tbody tr th:only-of-type {\n",
              "        vertical-align: middle;\n",
              "    }\n",
              "\n",
              "    .dataframe tbody tr th {\n",
              "        vertical-align: top;\n",
              "    }\n",
              "\n",
              "    .dataframe thead th {\n",
              "        text-align: right;\n",
              "    }\n",
              "</style>\n",
              "<table border=\"1\" class=\"dataframe\">\n",
              "  <thead>\n",
              "    <tr style=\"text-align: right;\">\n",
              "      <th></th>\n",
              "      <th>Code</th>\n",
              "      <th>Freq</th>\n",
              "    </tr>\n",
              "  </thead>\n",
              "  <tbody>\n",
              "    <tr>\n",
              "      <th>0</th>\n",
              "      <td>L</td>\n",
              "      <td>1967025</td>\n",
              "    </tr>\n",
              "    <tr>\n",
              "      <th>1</th>\n",
              "      <td>A</td>\n",
              "      <td>1667703</td>\n",
              "    </tr>\n",
              "    <tr>\n",
              "      <th>2</th>\n",
              "      <td>V</td>\n",
              "      <td>1382128</td>\n",
              "    </tr>\n",
              "    <tr>\n",
              "      <th>3</th>\n",
              "      <td>G</td>\n",
              "      <td>1376124</td>\n",
              "    </tr>\n",
              "    <tr>\n",
              "      <th>4</th>\n",
              "      <td>E</td>\n",
              "      <td>1249356</td>\n",
              "    </tr>\n",
              "    <tr>\n",
              "      <th>5</th>\n",
              "      <td>S</td>\n",
              "      <td>1210750</td>\n",
              "    </tr>\n",
              "    <tr>\n",
              "      <th>6</th>\n",
              "      <td>I</td>\n",
              "      <td>1185722</td>\n",
              "    </tr>\n",
              "    <tr>\n",
              "      <th>7</th>\n",
              "      <td>R</td>\n",
              "      <td>1085950</td>\n",
              "    </tr>\n",
              "    <tr>\n",
              "      <th>8</th>\n",
              "      <td>D</td>\n",
              "      <td>1080572</td>\n",
              "    </tr>\n",
              "    <tr>\n",
              "      <th>9</th>\n",
              "      <td>K</td>\n",
              "      <td>1047638</td>\n",
              "    </tr>\n",
              "    <tr>\n",
              "      <th>10</th>\n",
              "      <td>T</td>\n",
              "      <td>1039590</td>\n",
              "    </tr>\n",
              "    <tr>\n",
              "      <th>11</th>\n",
              "      <td>P</td>\n",
              "      <td>850937</td>\n",
              "    </tr>\n",
              "    <tr>\n",
              "      <th>12</th>\n",
              "      <td>F</td>\n",
              "      <td>820778</td>\n",
              "    </tr>\n",
              "    <tr>\n",
              "      <th>13</th>\n",
              "      <td>N</td>\n",
              "      <td>757315</td>\n",
              "    </tr>\n",
              "    <tr>\n",
              "      <th>14</th>\n",
              "      <td>Q</td>\n",
              "      <td>714424</td>\n",
              "    </tr>\n",
              "    <tr>\n",
              "      <th>15</th>\n",
              "      <td>Y</td>\n",
              "      <td>639252</td>\n",
              "    </tr>\n",
              "    <tr>\n",
              "      <th>16</th>\n",
              "      <td>M</td>\n",
              "      <td>428275</td>\n",
              "    </tr>\n",
              "    <tr>\n",
              "      <th>17</th>\n",
              "      <td>H</td>\n",
              "      <td>426922</td>\n",
              "    </tr>\n",
              "    <tr>\n",
              "      <th>18</th>\n",
              "      <td>C</td>\n",
              "      <td>264434</td>\n",
              "    </tr>\n",
              "    <tr>\n",
              "      <th>19</th>\n",
              "      <td>W</td>\n",
              "      <td>263317</td>\n",
              "    </tr>\n",
              "    <tr>\n",
              "      <th>20</th>\n",
              "      <td>X</td>\n",
              "      <td>146</td>\n",
              "    </tr>\n",
              "    <tr>\n",
              "      <th>21</th>\n",
              "      <td>U</td>\n",
              "      <td>12</td>\n",
              "    </tr>\n",
              "  </tbody>\n",
              "</table>\n",
              "</div>"
            ],
            "text/plain": [
              "   Code     Freq\n",
              "0     L  1967025\n",
              "1     A  1667703\n",
              "2     V  1382128\n",
              "3     G  1376124\n",
              "4     E  1249356\n",
              "5     S  1210750\n",
              "6     I  1185722\n",
              "7     R  1085950\n",
              "8     D  1080572\n",
              "9     K  1047638\n",
              "10    T  1039590\n",
              "11    P   850937\n",
              "12    F   820778\n",
              "13    N   757315\n",
              "14    Q   714424\n",
              "15    Y   639252\n",
              "16    M   428275\n",
              "17    H   426922\n",
              "18    C   264434\n",
              "19    W   263317\n",
              "20    X      146\n",
              "21    U       12"
            ]
          },
          "metadata": {
            "tags": []
          },
          "execution_count": 21
        }
      ]
    },
    {
      "cell_type": "code",
      "metadata": {
        "colab": {
          "base_uri": "https://localhost:8080/",
          "height": 827
        },
        "id": "f4qHZiC4I-28",
        "outputId": "59bf4d8b-bd39-4e90-8fb0-a125cd0ee32d"
      },
      "source": [
        "test_code_freq = get_code_freq(df_test['sequence'], 'Test')\n",
        "test_code_freq"
      ],
      "execution_count": 22,
      "outputs": [
        {
          "output_type": "stream",
          "text": [
            "Codes: Test\n",
            "Total unique codes: 24\n"
          ],
          "name": "stdout"
        },
        {
          "output_type": "execute_result",
          "data": {
            "text/html": [
              "<div>\n",
              "<style scoped>\n",
              "    .dataframe tbody tr th:only-of-type {\n",
              "        vertical-align: middle;\n",
              "    }\n",
              "\n",
              "    .dataframe tbody tr th {\n",
              "        vertical-align: top;\n",
              "    }\n",
              "\n",
              "    .dataframe thead th {\n",
              "        text-align: right;\n",
              "    }\n",
              "</style>\n",
              "<table border=\"1\" class=\"dataframe\">\n",
              "  <thead>\n",
              "    <tr style=\"text-align: right;\">\n",
              "      <th></th>\n",
              "      <th>Code</th>\n",
              "      <th>Freq</th>\n",
              "    </tr>\n",
              "  </thead>\n",
              "  <tbody>\n",
              "    <tr>\n",
              "      <th>0</th>\n",
              "      <td>L</td>\n",
              "      <td>1967046</td>\n",
              "    </tr>\n",
              "    <tr>\n",
              "      <th>1</th>\n",
              "      <td>A</td>\n",
              "      <td>1668137</td>\n",
              "    </tr>\n",
              "    <tr>\n",
              "      <th>2</th>\n",
              "      <td>V</td>\n",
              "      <td>1380962</td>\n",
              "    </tr>\n",
              "    <tr>\n",
              "      <th>3</th>\n",
              "      <td>G</td>\n",
              "      <td>1375349</td>\n",
              "    </tr>\n",
              "    <tr>\n",
              "      <th>4</th>\n",
              "      <td>E</td>\n",
              "      <td>1251000</td>\n",
              "    </tr>\n",
              "    <tr>\n",
              "      <th>5</th>\n",
              "      <td>S</td>\n",
              "      <td>1210559</td>\n",
              "    </tr>\n",
              "    <tr>\n",
              "      <th>6</th>\n",
              "      <td>I</td>\n",
              "      <td>1184239</td>\n",
              "    </tr>\n",
              "    <tr>\n",
              "      <th>7</th>\n",
              "      <td>R</td>\n",
              "      <td>1085786</td>\n",
              "    </tr>\n",
              "    <tr>\n",
              "      <th>8</th>\n",
              "      <td>D</td>\n",
              "      <td>1078379</td>\n",
              "    </tr>\n",
              "    <tr>\n",
              "      <th>9</th>\n",
              "      <td>K</td>\n",
              "      <td>1045957</td>\n",
              "    </tr>\n",
              "    <tr>\n",
              "      <th>10</th>\n",
              "      <td>T</td>\n",
              "      <td>1038682</td>\n",
              "    </tr>\n",
              "    <tr>\n",
              "      <th>11</th>\n",
              "      <td>P</td>\n",
              "      <td>851574</td>\n",
              "    </tr>\n",
              "    <tr>\n",
              "      <th>12</th>\n",
              "      <td>F</td>\n",
              "      <td>822738</td>\n",
              "    </tr>\n",
              "    <tr>\n",
              "      <th>13</th>\n",
              "      <td>N</td>\n",
              "      <td>756549</td>\n",
              "    </tr>\n",
              "    <tr>\n",
              "      <th>14</th>\n",
              "      <td>Q</td>\n",
              "      <td>712317</td>\n",
              "    </tr>\n",
              "    <tr>\n",
              "      <th>15</th>\n",
              "      <td>Y</td>\n",
              "      <td>639218</td>\n",
              "    </tr>\n",
              "    <tr>\n",
              "      <th>16</th>\n",
              "      <td>M</td>\n",
              "      <td>428892</td>\n",
              "    </tr>\n",
              "    <tr>\n",
              "      <th>17</th>\n",
              "      <td>H</td>\n",
              "      <td>425862</td>\n",
              "    </tr>\n",
              "    <tr>\n",
              "      <th>18</th>\n",
              "      <td>C</td>\n",
              "      <td>264168</td>\n",
              "    </tr>\n",
              "    <tr>\n",
              "      <th>19</th>\n",
              "      <td>W</td>\n",
              "      <td>263755</td>\n",
              "    </tr>\n",
              "    <tr>\n",
              "      <th>20</th>\n",
              "      <td>X</td>\n",
              "      <td>198</td>\n",
              "    </tr>\n",
              "    <tr>\n",
              "      <th>21</th>\n",
              "      <td>U</td>\n",
              "      <td>12</td>\n",
              "    </tr>\n",
              "    <tr>\n",
              "      <th>22</th>\n",
              "      <td>Z</td>\n",
              "      <td>4</td>\n",
              "    </tr>\n",
              "    <tr>\n",
              "      <th>23</th>\n",
              "      <td>B</td>\n",
              "      <td>2</td>\n",
              "    </tr>\n",
              "  </tbody>\n",
              "</table>\n",
              "</div>"
            ],
            "text/plain": [
              "   Code     Freq\n",
              "0     L  1967046\n",
              "1     A  1668137\n",
              "2     V  1380962\n",
              "3     G  1375349\n",
              "4     E  1251000\n",
              "5     S  1210559\n",
              "6     I  1184239\n",
              "7     R  1085786\n",
              "8     D  1078379\n",
              "9     K  1045957\n",
              "10    T  1038682\n",
              "11    P   851574\n",
              "12    F   822738\n",
              "13    N   756549\n",
              "14    Q   712317\n",
              "15    Y   639218\n",
              "16    M   428892\n",
              "17    H   425862\n",
              "18    C   264168\n",
              "19    W   263755\n",
              "20    X      198\n",
              "21    U       12\n",
              "22    Z        4\n",
              "23    B        2"
            ]
          },
          "metadata": {
            "tags": []
          },
          "execution_count": 22
        }
      ]
    },
    {
      "cell_type": "code",
      "metadata": {
        "id": "m888J6PII-3A"
      },
      "source": [
        "def plot_code_freq(df, data_name):\n",
        "  \n",
        "  plt.title(f'Code frequency: {data_name}')\n",
        "  sns.barplot(x='Code', y='Freq', data=df)"
      ],
      "execution_count": 23,
      "outputs": []
    },
    {
      "cell_type": "code",
      "metadata": {
        "colab": {
          "base_uri": "https://localhost:8080/",
          "height": 283
        },
        "id": "a28BNtJQI-3D",
        "outputId": "551df302-2416-46fa-80f6-d7fe8eac6658"
      },
      "source": [
        "plt.subplot(1, 3, 1)\n",
        "plot_code_freq(train_code_freq, 'Train')\n",
        "plt.savefig('train_code_freq.png')\n",
        "plt.subplot(1, 3, 2)\n",
        "plot_code_freq(val_code_freq, 'Val')\n",
        "plt.savefig('val_code_freq.png')\n",
        "plt.subplot(1, 3, 3)\n",
        "plot_code_freq(test_code_freq, 'Test')\n",
        "plt.savefig('test_code_freq.png')\n",
        "plt.subplots_adjust(right=3.0)\n",
        "plt.show()\n",
        "plt.savefig('fig.png')"
      ],
      "execution_count": 24,
      "outputs": [
        {
          "output_type": "display_data",
          "data": {
            "image/png": "[encoded data removed]",
            "text/plain": [
              "<Figure size 432x288 with 3 Axes>"
            ]
          },
          "metadata": {
            "tags": [],
            "needs_background": "light"
          }
        }
      ]
    },
    {
      "cell_type": "code",
      "metadata": {
        "id": "DXheU5fXM8bK"
      },
      "source": [
        ""
      ],
      "execution_count": 24,
      "outputs": []
    },
    {
      "cell_type": "markdown",
      "metadata": {
        "id": "lKL_ofgeLuQ5"
      },
      "source": [
        ""
      ]
    },
    {
      "cell_type": "code",
      "metadata": {
        "colab": {
          "base_uri": "https://localhost:8080/"
        },
        "id": "h5UCTjVaI-3J",
        "outputId": "94cf71ce-bad8-453f-8794-8b8f133cdcc8"
      },
      "source": [
        "df_train.groupby('family_id').size().sort_values(ascending=False).head(20)"
      ],
      "execution_count": 25,
      "outputs": [
        {
          "output_type": "execute_result",
          "data": {
            "text/plain": [
              "family_id\n",
              "Methyltransf_25    3688\n",
              "LRR_1              1949\n",
              "Acetyltransf_7     1777\n",
              "His_kinase         1565\n",
              "Bac_transf         1554\n",
              "Lum_binding        1518\n",
              "DNA_binding_1      1359\n",
              "Chromate_transp    1283\n",
              "Lipase_GDSL_2      1264\n",
              "DnaJ_CXXCXGXG      1228\n",
              "SRP54_N            1197\n",
              "WD40               1195\n",
              "OTCace_N           1175\n",
              "PEP-utilizers      1161\n",
              "Glycos_trans_3N    1154\n",
              "THF_DHG_CYH        1124\n",
              "Prenyltransf       1117\n",
              "DHH                1076\n",
              "HTH_1              1074\n",
              "Maf                1070\n",
              "dtype: int64"
            ]
          },
          "metadata": {
            "tags": []
          },
          "execution_count": 25
        }
      ]
    },
    {
      "cell_type": "code",
      "metadata": {
        "colab": {
          "base_uri": "https://localhost:8080/"
        },
        "id": "XdUOirK3I-3Q",
        "outputId": "d2498223-e124-49a2-9cc8-b19a97200106"
      },
      "source": [
        "df_val.groupby('family_id').size().sort_values(ascending=False).head(20)"
      ],
      "execution_count": 26,
      "outputs": [
        {
          "output_type": "execute_result",
          "data": {
            "text/plain": [
              "family_id\n",
              "Methyltransf_25    454\n",
              "LRR_1              240\n",
              "Acetyltransf_7     219\n",
              "His_kinase         192\n",
              "Bac_transf         190\n",
              "Lum_binding        187\n",
              "DNA_binding_1      168\n",
              "Chromate_transp    157\n",
              "Lipase_GDSL_2      156\n",
              "DnaJ_CXXCXGXG      151\n",
              "SRP54_N            148\n",
              "OTCace_N           146\n",
              "WD40               146\n",
              "PEP-utilizers      143\n",
              "Glycos_trans_3N    142\n",
              "Prenyltransf       138\n",
              "THF_DHG_CYH        138\n",
              "HTH_1              133\n",
              "Maf                132\n",
              "DHH                131\n",
              "dtype: int64"
            ]
          },
          "metadata": {
            "tags": []
          },
          "execution_count": 26
        }
      ]
    },
    {
      "cell_type": "code",
      "metadata": {
        "colab": {
          "base_uri": "https://localhost:8080/"
        },
        "id": "o5hRRYtoI-3T",
        "outputId": "6db8a95e-9a83-4b21-ca08-e5cb6a803dcf"
      },
      "source": [
        "df_test.groupby('family_id').size().sort_values(ascending=False).head(20)"
      ],
      "execution_count": 27,
      "outputs": [
        {
          "output_type": "execute_result",
          "data": {
            "text/plain": [
              "family_id\n",
              "Methyltransf_25    454\n",
              "LRR_1              240\n",
              "Acetyltransf_7     219\n",
              "His_kinase         192\n",
              "Bac_transf         190\n",
              "Lum_binding        187\n",
              "DNA_binding_1      168\n",
              "Chromate_transp    157\n",
              "Lipase_GDSL_2      156\n",
              "DnaJ_CXXCXGXG      151\n",
              "SRP54_N            148\n",
              "OTCace_N           146\n",
              "WD40               146\n",
              "PEP-utilizers      143\n",
              "Glycos_trans_3N    142\n",
              "Prenyltransf       138\n",
              "THF_DHG_CYH        138\n",
              "HTH_1              133\n",
              "Maf                132\n",
              "DHH                131\n",
              "dtype: int64"
            ]
          },
          "metadata": {
            "tags": []
          },
          "execution_count": 27
        }
      ]
    },
    {
      "cell_type": "code",
      "metadata": {
        "colab": {
          "base_uri": "https://localhost:8080/"
        },
        "id": "N3DMpXs6I-3W",
        "outputId": "6ad02dd3-bb39-4eba-8afa-a54b3f872404"
      },
      "source": [
        "\n",
        "classes = df_train['family_accession'].value_counts()[:1000].index.tolist()\n",
        "len(classes)"
      ],
      "execution_count": 28,
      "outputs": [
        {
          "output_type": "execute_result",
          "data": {
            "text/plain": [
              "1000"
            ]
          },
          "metadata": {
            "tags": []
          },
          "execution_count": 28
        }
      ]
    },
    {
      "cell_type": "code",
      "metadata": {
        "colab": {
          "base_uri": "https://localhost:8080/"
        },
        "id": "c2JCbSkYI-3a",
        "outputId": "eb0852c3-a8f5-4d4c-c288-cadb26479a11"
      },
      "source": [
        "# Filtering data based on considered 1000 classes.\n",
        "train_sm = df_train.loc[df_train['family_accession'].isin(classes)].reset_index()\n",
        "val_sm = df_val.loc[df_val['family_accession'].isin(classes)].reset_index()\n",
        "test_sm = df_test.loc[df_test['family_accession'].isin(classes)].reset_index()\n",
        "\n",
        "print('Data size after considering 1000 classes for each data split:')\n",
        "print('Train size :', len(train_sm))\n",
        "print('Val size :', len(val_sm))\n",
        "print('Test size :', len(test_sm))"
      ],
      "execution_count": 29,
      "outputs": [
        {
          "output_type": "stream",
          "text": [
            "Data size after considering 1000 classes for each data split:\n",
            "Train size : 444906\n",
            "Val size : 54378\n",
            "Test size : 54378\n"
          ],
          "name": "stdout"
        }
      ]
    },
    {
      "cell_type": "code",
      "metadata": {
        "colab": {
          "base_uri": "https://localhost:8080/"
        },
        "id": "szVw32ICI-3k",
        "outputId": "ace98006-b455-4a93-8c14-e2888b457ac3"
      },
      "source": [
        "calc_unique_cls(train_sm, test_sm, val_sm)"
      ],
      "execution_count": 30,
      "outputs": [
        {
          "output_type": "stream",
          "text": [
            "Number of unique classes in Train:  1000\n",
            "Number of unique classes in Val:  1000\n",
            "Number of unique classes in Test:  1000\n"
          ],
          "name": "stdout"
        }
      ]
    },
    {
      "cell_type": "code",
      "metadata": {
        "colab": {
          "base_uri": "https://localhost:8080/"
        },
        "id": "qqV1c-BBI-3o",
        "outputId": "6c2f5b79-1869-4ddb-9c34-2171a808440c"
      },
      "source": [
        "\n",
        "codes = ['A', 'C', 'D', 'E', 'F', 'G', 'H', 'I', 'K', 'L',\n",
        "         'M', 'N', 'P', 'Q', 'R', 'S', 'T', 'V', 'W', 'Y']\n",
        "\n",
        "def create_dict(codes):\n",
        "  char_dict = {}\n",
        "  for index, val in enumerate(codes):\n",
        "    char_dict[val] = index+1\n",
        "\n",
        "  return char_dict\n",
        "\n",
        "char_dict = create_dict(codes)\n",
        "\n",
        "print(char_dict)\n",
        "print(\"Dict Length:\", len(char_dict))"
      ],
      "execution_count": 31,
      "outputs": [
        {
          "output_type": "stream",
          "text": [
            "{'A': 1, 'C': 2, 'D': 3, 'E': 4, 'F': 5, 'G': 6, 'H': 7, 'I': 8, 'K': 9, 'L': 10, 'M': 11, 'N': 12, 'P': 13, 'Q': 14, 'R': 15, 'S': 16, 'T': 17, 'V': 18, 'W': 19, 'Y': 20}\n",
            "Dict Length: 20\n"
          ],
          "name": "stdout"
        }
      ]
    },
    {
      "cell_type": "code",
      "metadata": {
        "id": "qeDJQEwCI-3r"
      },
      "source": [
        "def integer_encoding(data):\n",
        "  \"\"\"\n",
        "  - Encodes code sequence to integer values.\n",
        "  - 20 common amino acids are taken into consideration\n",
        "    and rest 4 are categorized as 0.\n",
        "  \"\"\"\n",
        "  \n",
        "  encode_list = []\n",
        "  for row in data['sequence'].values:\n",
        "    row_encode = []\n",
        "    for code in row:\n",
        "      row_encode.append(char_dict.get(code, 0))\n",
        "    encode_list.append(np.array(row_encode))\n",
        "  \n",
        "  return encode_list"
      ],
      "execution_count": 32,
      "outputs": []
    },
    {
      "cell_type": "code",
      "metadata": {
        "id": "m07kLSpqI-3v"
      },
      "source": [
        "train_encode = integer_encoding(train_sm) \n",
        "val_encode = integer_encoding(val_sm) \n",
        "test_encode = integer_encoding(test_sm)"
      ],
      "execution_count": 33,
      "outputs": []
    },
    {
      "cell_type": "code",
      "metadata": {
        "colab": {
          "base_uri": "https://localhost:8080/"
        },
        "id": "vR9fMIy8I-3y",
        "outputId": "a13efc72-3051-4f4c-8e0e-d3028841fbca"
      },
      "source": [
        "\n",
        "max_length = 100\n",
        "train_pad = pad_sequences(train_encode, maxlen=max_length, padding='post', truncating='post')\n",
        "val_pad = pad_sequences(val_encode, maxlen=max_length, padding='post', truncating='post')\n",
        "test_pad = pad_sequences(test_encode, maxlen=max_length, padding='post', truncating='post')\n",
        "\n",
        "train_pad.shape, val_pad.shape, test_pad.shape"
      ],
      "execution_count": 34,
      "outputs": [
        {
          "output_type": "execute_result",
          "data": {
            "text/plain": [
              "((444906, 100), (54378, 100), (54378, 100))"
            ]
          },
          "metadata": {
            "tags": []
          },
          "execution_count": 34
        }
      ]
    },
    {
      "cell_type": "code",
      "metadata": {
        "colab": {
          "base_uri": "https://localhost:8080/"
        },
        "id": "PHaIE23sI-33",
        "outputId": "570a076b-cec1-4580-dfdb-8887a9961e14"
      },
      "source": [
        "\n",
        "train_ohe = to_categorical(train_pad)\n",
        "val_ohe = to_categorical(val_pad)\n",
        "test_ohe = to_categorical(test_pad)\n",
        "\n",
        "train_ohe.shape, test_ohe.shape, test_ohe.shape"
      ],
      "execution_count": 35,
      "outputs": [
        {
          "output_type": "execute_result",
          "data": {
            "text/plain": [
              "((444906, 100, 21), (54378, 100, 21), (54378, 100, 21))"
            ]
          },
          "metadata": {
            "tags": []
          },
          "execution_count": 35
        }
      ]
    },
    {
      "cell_type": "code",
      "metadata": {
        "colab": {
          "base_uri": "https://localhost:8080/"
        },
        "id": "DSiu1XUnI-38",
        "outputId": "a907016c-40ff-4628-c770-d00697806909"
      },
      "source": [
        "le = LabelEncoder()\n",
        "\n",
        "y_train_le = le.fit_transform(train_sm['family_accession'])\n",
        "y_val_le = le.transform(val_sm['family_accession'])\n",
        "y_test_le = le.transform(test_sm['family_accession'])\n",
        "\n",
        "y_train_le.shape, y_val_le.shape, y_test_le.shape"
      ],
      "execution_count": 36,
      "outputs": [
        {
          "output_type": "execute_result",
          "data": {
            "text/plain": [
              "((444906,), (54378,), (54378,))"
            ]
          },
          "metadata": {
            "tags": []
          },
          "execution_count": 36
        }
      ]
    },
    {
      "cell_type": "code",
      "metadata": {
        "colab": {
          "base_uri": "https://localhost:8080/"
        },
        "id": "-v5zP1zEI-4D",
        "outputId": "7f600b6d-b7d8-4201-accc-f87429a9e8c1"
      },
      "source": [
        "print('Total classes: ', len(le.classes_))"
      ],
      "execution_count": 37,
      "outputs": [
        {
          "output_type": "stream",
          "text": [
            "Total classes:  1000\n"
          ],
          "name": "stdout"
        }
      ]
    },
    {
      "cell_type": "code",
      "metadata": {
        "colab": {
          "base_uri": "https://localhost:8080/"
        },
        "id": "2WvC5t_7I-4I",
        "outputId": "292aa1b6-2772-42c2-c262-30da111ebf3e"
      },
      "source": [
        "y_train = to_categorical(y_train_le)\n",
        "y_val = to_categorical(y_val_le)\n",
        "y_test = to_categorical(y_test_le)\n",
        "\n",
        "y_train.shape, y_val.shape, y_test.shape"
      ],
      "execution_count": 38,
      "outputs": [
        {
          "output_type": "execute_result",
          "data": {
            "text/plain": [
              "((444906, 1000), (54378, 1000), (54378, 1000))"
            ]
          },
          "metadata": {
            "tags": []
          },
          "execution_count": 38
        }
      ]
    },
    {
      "cell_type": "code",
      "metadata": {
        "id": "RS97XFtPI-4K"
      },
      "source": [
        "plt.style.use('ggplot')\n",
        "\n",
        "def plot_history(history):\n",
        "  acc = history.history['acc']\n",
        "  val_acc = history.history['val_acc']\n",
        "  loss = history.history['loss']\n",
        "  val_loss = history.history['val_loss']\n",
        "  x = range(1, len(acc) + 1)\n",
        "\n",
        "  plt.figure(figsize=(12, 5))\n",
        "  plt.subplot(1, 2, 1)\n",
        "  plt.plot(x, acc, 'b', label='Training acc')\n",
        "  plt.plot(x, val_acc, 'r', label='Validation acc')\n",
        "  plt.title('Training and validation accuracy')\n",
        "  plt.legend()\n",
        "\n",
        "  plt.subplot(1, 2, 2)\n",
        "  plt.plot(x, loss, 'b', label='Training loss')\n",
        "  plt.plot(x, val_loss, 'r', label='Validation loss')\n",
        "  plt.title('Training and validation loss')\n",
        "  plt.legend()"
      ],
      "execution_count": 39,
      "outputs": []
    },
    {
      "cell_type": "code",
      "metadata": {
        "id": "_iERiHAdI-4R"
      },
      "source": [
        "\n",
        "def display_model_score(model, train, val, test, batch_size):\n",
        "\n",
        "  train_score = model.evaluate(train[0], train[1], batch_size=batch_size, verbose=1)\n",
        "  print('Train loss: ', train_score[0])\n",
        "  print('Train accuracy: ', train_score[1])\n",
        "  print('-'*70)\n",
        "\n",
        "  val_score = model.evaluate(val[0], val[1], batch_size=batch_size, verbose=1)\n",
        "  print('Val loss: ', val_score[0])\n",
        "  print('Val accuracy: ', val_score[1])\n",
        "  print('-'*70)\n",
        "  \n",
        "  test_score = model.evaluate(test[0], test[1], batch_size=batch_size, verbose=1)\n",
        "  print('Test loss: ', test_score[0])\n",
        "  print('Test accuracy: ', test_score[1])"
      ],
      "execution_count": 40,
      "outputs": []
    },
    {
      "cell_type": "markdown",
      "metadata": {
        "id": "huhD-DS1I-4T"
      },
      "source": [
        "# Model 1: RNNEDT"
      ]
    },
    {
      "cell_type": "code",
      "metadata": {
        "colab": {
          "base_uri": "https://localhost:8080/"
        },
        "id": "r5946zvMI-4U",
        "outputId": "b76cf52a-a6a4-4807-e316-7cd3bbaf66ea"
      },
      "source": [
        "\"\"\"import tensorflow.compat.v1 as tf\n",
        "tf.disable_v2_behavior()\"\"\"\n",
        "from keras.layers import LSTM\n",
        "\n",
        "x_input = Input(shape=(100,))\n",
        "emb = Embedding(21, 128, input_length=max_length)(x_input)\n",
        "bi_rnn = Bidirectional(CuDNNLSTM(64, kernel_regularizer=l2(0.01), recurrent_regularizer=l2(0.01), bias_regularizer=l2(0.01)))(emb)\n",
        "x = Dropout(0.3)(bi_rnn)\n",
        "\n",
        "# softmax classifier\n",
        "x_output = Dense(1000, activation='softmax')(x)\n",
        "\n",
        "model1 = Model(inputs=x_input, outputs=x_output)\n",
        "model1.compile(optimizer='adam', loss='categorical_crossentropy', metrics=['acc'])\n",
        "#model1.compile(optimizer='adam', loss='categorical_crossentropy', metrics=['accuracy'])\n",
        "#metrics=[\"acc\"]\n",
        "model1.summary()"
      ],
      "execution_count": 55,
      "outputs": [
        {
          "output_type": "stream",
          "text": [
            "Model: \"model_2\"\n",
            "_________________________________________________________________\n",
            "Layer (type)                 Output Shape              Param #   \n",
            "=================================================================\n",
            "input_3 (InputLayer)         [(None, 100)]             0         \n",
            "_________________________________________________________________\n",
            "embedding_1 (Embedding)      (None, 100, 128)          2688      \n",
            "_________________________________________________________________\n",
            "bidirectional_1 (Bidirection (None, 128)               99328     \n",
            "_________________________________________________________________\n",
            "dropout_2 (Dropout)          (None, 128)               0         \n",
            "_________________________________________________________________\n",
            "dense_2 (Dense)              (None, 1000)              129000    \n",
            "=================================================================\n",
            "Total params: 231,016\n",
            "Trainable params: 231,016\n",
            "Non-trainable params: 0\n",
            "_________________________________________________________________\n"
          ],
          "name": "stdout"
        }
      ]
    },
    {
      "cell_type": "code",
      "metadata": {
        "id": "a9jLtzODI-4X"
      },
      "source": [
        "es = EarlyStopping(monitor='val_loss', patience=3, verbose=1)"
      ],
      "execution_count": 56,
      "outputs": []
    },
    {
      "cell_type": "code",
      "metadata": {
        "colab": {
          "base_uri": "https://localhost:8080/"
        },
        "id": "2W8l07mfI-4a",
        "outputId": "e07f7c59-6765-45bc-f279-0f592174f751"
      },
      "source": [
        "##from keras.layers import LSTM\n",
        "\n",
        "history1 = model1.fit(\n",
        "    train_pad, y_train,\n",
        "    epochs=50, batch_size=256,\n",
        "    validation_data=(val_pad, y_val),\n",
        "    callbacks=[es]\n",
        "    )"
      ],
      "execution_count": 57,
      "outputs": [
        {
          "output_type": "stream",
          "text": [
            "Epoch 1/50\n",
            "1738/1738 [==============================] - 43s 24ms/step - loss: 6.9816 - acc: 0.0433 - val_loss: 3.6589 - val_acc: 0.3237\n",
            "Epoch 2/50\n",
            "1738/1738 [==============================] - 41s 24ms/step - loss: 3.2858 - acc: 0.3854 - val_loss: 2.0586 - val_acc: 0.6637\n",
            "Epoch 3/50\n",
            "1738/1738 [==============================] - 42s 24ms/step - loss: 2.0802 - acc: 0.6290 - val_loss: 1.3847 - val_acc: 0.7893\n",
            "Epoch 4/50\n",
            "1738/1738 [==============================] - 42s 24ms/step - loss: 1.5510 - acc: 0.7314 - val_loss: 1.0622 - val_acc: 0.8451\n",
            "Epoch 5/50\n",
            "1738/1738 [==============================] - 42s 24ms/step - loss: 1.2651 - acc: 0.7846 - val_loss: 0.8785 - val_acc: 0.8785\n",
            "Epoch 6/50\n",
            "1738/1738 [==============================] - 41s 24ms/step - loss: 1.0980 - acc: 0.8149 - val_loss: 0.7766 - val_acc: 0.8954\n",
            "Epoch 7/50\n",
            "1738/1738 [==============================] - 42s 24ms/step - loss: 0.9840 - acc: 0.8353 - val_loss: 0.7264 - val_acc: 0.9011\n",
            "Epoch 8/50\n",
            "1738/1738 [==============================] - 42s 24ms/step - loss: 0.9044 - acc: 0.8494 - val_loss: 0.6427 - val_acc: 0.9162\n",
            "Epoch 9/50\n",
            "1738/1738 [==============================] - 42s 24ms/step - loss: 0.8451 - acc: 0.8607 - val_loss: 0.5951 - val_acc: 0.9261\n",
            "Epoch 10/50\n",
            "1738/1738 [==============================] - 42s 24ms/step - loss: 0.7966 - acc: 0.8696 - val_loss: 0.5784 - val_acc: 0.9280\n",
            "Epoch 11/50\n",
            "1738/1738 [==============================] - 42s 24ms/step - loss: 0.7653 - acc: 0.8753 - val_loss: 0.5389 - val_acc: 0.9352\n",
            "Epoch 12/50\n",
            "1738/1738 [==============================] - 42s 24ms/step - loss: 0.7361 - acc: 0.8808 - val_loss: 0.5206 - val_acc: 0.9381\n",
            "Epoch 13/50\n",
            "1738/1738 [==============================] - 42s 24ms/step - loss: 0.7091 - acc: 0.8858 - val_loss: 0.5072 - val_acc: 0.9410\n",
            "Epoch 14/50\n",
            "1738/1738 [==============================] - 42s 24ms/step - loss: 0.6920 - acc: 0.8890 - val_loss: 0.4863 - val_acc: 0.9455\n",
            "Epoch 15/50\n",
            "1738/1738 [==============================] - 42s 24ms/step - loss: 0.6709 - acc: 0.8926 - val_loss: 0.4798 - val_acc: 0.9462\n",
            "Epoch 16/50\n",
            "1738/1738 [==============================] - 42s 24ms/step - loss: 0.6628 - acc: 0.8947 - val_loss: 0.4708 - val_acc: 0.9467\n",
            "Epoch 17/50\n",
            "1738/1738 [==============================] - 42s 24ms/step - loss: 0.6487 - acc: 0.8970 - val_loss: 0.4676 - val_acc: 0.9485\n",
            "Epoch 18/50\n",
            "1738/1738 [==============================] - 42s 24ms/step - loss: 0.6393 - acc: 0.8989 - val_loss: 0.4697 - val_acc: 0.9457\n",
            "Epoch 19/50\n",
            "1738/1738 [==============================] - 42s 24ms/step - loss: 0.6272 - acc: 0.9010 - val_loss: 0.4339 - val_acc: 0.9546\n",
            "Epoch 20/50\n",
            "1738/1738 [==============================] - 42s 24ms/step - loss: 0.6167 - acc: 0.9030 - val_loss: 0.4382 - val_acc: 0.9518\n",
            "Epoch 21/50\n",
            "1738/1738 [==============================] - 42s 24ms/step - loss: 0.6058 - acc: 0.9051 - val_loss: 0.4208 - val_acc: 0.9565\n",
            "Epoch 22/50\n",
            "1738/1738 [==============================] - 42s 24ms/step - loss: 0.6002 - acc: 0.9068 - val_loss: 0.4253 - val_acc: 0.9542\n",
            "Epoch 23/50\n",
            "1738/1738 [==============================] - 42s 24ms/step - loss: 0.5964 - acc: 0.9068 - val_loss: 0.4216 - val_acc: 0.9548\n",
            "Epoch 24/50\n",
            "1738/1738 [==============================] - 42s 24ms/step - loss: 0.5888 - acc: 0.9086 - val_loss: 0.4116 - val_acc: 0.9565\n",
            "Epoch 25/50\n",
            "1738/1738 [==============================] - 42s 24ms/step - loss: 0.5829 - acc: 0.9097 - val_loss: 0.4335 - val_acc: 0.9512\n",
            "Epoch 26/50\n",
            "1738/1738 [==============================] - 42s 24ms/step - loss: 0.5765 - acc: 0.9110 - val_loss: 0.3946 - val_acc: 0.9606\n",
            "Epoch 27/50\n",
            "1738/1738 [==============================] - 42s 24ms/step - loss: 0.5648 - acc: 0.9132 - val_loss: 0.4002 - val_acc: 0.9582\n",
            "Epoch 28/50\n",
            "1738/1738 [==============================] - 42s 24ms/step - loss: 0.5619 - acc: 0.9132 - val_loss: 0.3914 - val_acc: 0.9603\n",
            "Epoch 29/50\n",
            "1738/1738 [==============================] - 42s 24ms/step - loss: 0.5610 - acc: 0.9132 - val_loss: 0.4035 - val_acc: 0.9575\n",
            "Epoch 30/50\n",
            "1738/1738 [==============================] - 42s 24ms/step - loss: 0.5572 - acc: 0.9144 - val_loss: 0.3817 - val_acc: 0.9625\n",
            "Epoch 31/50\n",
            "1738/1738 [==============================] - 42s 24ms/step - loss: 0.5468 - acc: 0.9160 - val_loss: 0.3741 - val_acc: 0.9645\n",
            "Epoch 32/50\n",
            "1738/1738 [==============================] - 42s 24ms/step - loss: 0.5415 - acc: 0.9170 - val_loss: 0.3826 - val_acc: 0.9609\n",
            "Epoch 33/50\n",
            "1738/1738 [==============================] - 42s 24ms/step - loss: 0.5374 - acc: 0.9178 - val_loss: 0.3755 - val_acc: 0.9631\n",
            "Epoch 34/50\n",
            "1738/1738 [==============================] - 42s 24ms/step - loss: 0.5360 - acc: 0.9180 - val_loss: 0.3712 - val_acc: 0.9625\n",
            "Epoch 35/50\n",
            "1738/1738 [==============================] - 42s 24ms/step - loss: 0.5300 - acc: 0.9191 - val_loss: 0.3530 - val_acc: 0.9677\n",
            "Epoch 36/50\n",
            "1738/1738 [==============================] - 42s 24ms/step - loss: 0.5281 - acc: 0.9188 - val_loss: 0.3651 - val_acc: 0.9649\n",
            "Epoch 37/50\n",
            "1738/1738 [==============================] - 42s 24ms/step - loss: 0.5214 - acc: 0.9207 - val_loss: 0.3596 - val_acc: 0.9661\n",
            "Epoch 38/50\n",
            "1738/1738 [==============================] - 42s 24ms/step - loss: 0.5161 - acc: 0.9221 - val_loss: 0.3698 - val_acc: 0.9626\n",
            "Epoch 00038: early stopping\n"
          ],
          "name": "stdout"
        }
      ]
    },
    {
      "cell_type": "code",
      "metadata": {
        "colab": {
          "base_uri": "https://localhost:8080/"
        },
        "id": "L6eK-1RNI-4d",
        "outputId": "9973f2ec-e2b6-4a2b-e745-828932606981"
      },
      "source": [
        "import tensorflow as tf\n",
        "print(tf.test.is_gpu_available())"
      ],
      "execution_count": 59,
      "outputs": [
        {
          "output_type": "stream",
          "text": [
            "True\n"
          ],
          "name": "stdout"
        }
      ]
    },
    {
      "cell_type": "code",
      "metadata": {
        "id": "Ng6-q3VRI-4l"
      },
      "source": [
        "model1.save_weights('/content/gdrive/My Drive/Case_Study/pfam/random_split/model1.h5')\n",
        "#model1.save_weights('model1.h5')"
      ],
      "execution_count": 60,
      "outputs": []
    },
    {
      "cell_type": "code",
      "metadata": {
        "colab": {
          "base_uri": "https://localhost:8080/",
          "height": 337
        },
        "id": "yiY2xAO9I-4q",
        "outputId": "78440f74-e071-4ee4-d832-acbe97e8c7ee"
      },
      "source": [
        "plot_history(history1)\n"
      ],
      "execution_count": 61,
      "outputs": [
        {
          "output_type": "display_data",
          "data": {
            "image/png": "[encoded data removed]",
            "text/plain": [
              "<Figure size 864x360 with 2 Axes>"
            ]
          },
          "metadata": {
            "tags": []
          }
        }
      ]
    },
    {
      "cell_type": "code",
      "metadata": {
        "colab": {
          "base_uri": "https://localhost:8080/"
        },
        "id": "2x8deXbZI-4y",
        "outputId": "f39ff79e-3425-4a82-9ddb-b9bbb1226679"
      },
      "source": [
        "display_model_score(model1,\n",
        "    [train_pad, y_train],\n",
        "    [val_pad, y_val],\n",
        "    [test_pad, y_test],\n",
        "    256)"
      ],
      "execution_count": 62,
      "outputs": [
        {
          "output_type": "stream",
          "text": [
            "1738/1738 [==============================] - 18s 11ms/step - loss: 0.3484 - acc: 0.9689\n",
            "Train loss:  0.34835612773895264\n",
            "Train accuracy:  0.9648653349876404\n",
            "----------------------------------------------------------------------\n",
            "213/213 [==============================] - 2s 11ms/step - loss: 0.3698 - acc: 0.9626\n",
            "Val loss:  0.36980682611465454\n",
            "Val accuracy:  0.957558388710022\n",
            "----------------------------------------------------------------------\n",
            "213/213 [==============================] - 2s 11ms/step - loss: 0.3732 - acc: 0.9619\n",
            "Test loss:  0.3732147216796875\n",
            "Test accuracy:  0.9581595838546753\n"
          ],
          "name": "stdout"
        }
      ]
    },
    {
      "cell_type": "code",
      "metadata": {
        "id": "y1UgmRaaI-42"
      },
      "source": [
        "def residual_block(data, filters, d_rate):\n",
        "  \"\"\"\n",
        "  _data: input\n",
        "  _filters: convolution filters\n",
        "  _d_rate: dilation rate\n",
        "  \"\"\"\n",
        "\n",
        "  shortcut = data\n",
        "\n",
        "  bn1 = BatchNormalization()(data)\n",
        "  act1 = Activation('relu')(bn1)\n",
        "  conv1 = Conv1D(filters, 1, dilation_rate=d_rate, padding='same', kernel_regularizer=l2(0.001))(act1)\n",
        "\n",
        "  #bottleneck convolution\n",
        "  bn2 = BatchNormalization()(conv1)\n",
        "  act2 = Activation('relu')(bn2)\n",
        "  conv2 = Conv1D(filters, 3, padding='same', kernel_regularizer=l2(0.001))(act2)\n",
        "\n",
        "  #skip connection\n",
        "  x = Add()([conv2, shortcut])\n",
        "\n",
        "  return x"
      ],
      "execution_count": 63,
      "outputs": []
    },
    {
      "cell_type": "code",
      "metadata": {
        "id": "c3XnOyIOI-48",
        "colab": {
          "base_uri": "https://localhost:8080/"
        },
        "outputId": "99d225e7-81dd-4d36-b80c-d627f2877489"
      },
      "source": [
        "# model\n",
        "\n",
        "x_input = Input(shape=(100, 21))\n",
        "\n",
        "#initial conv\n",
        "conv = Conv1D(128, 1, padding='same')(x_input) \n",
        "\n",
        "# per-residue representation\n",
        "res1 = residual_block(conv, 128, 2)\n",
        "res2 = residual_block(res1, 128, 3)\n",
        "\n",
        "x = MaxPooling1D(3)(res2)\n",
        "x = Dropout(0.5)(x)\n",
        "\n",
        "# softmax classifier\n",
        "x = Flatten()(x)\n",
        "x_output = Dense(1000, activation='softmax', kernel_regularizer=l2(0.0001))(x)\n",
        "\n",
        "model2 = Model(inputs=x_input, outputs=x_output)\n",
        "#model2.compile(optimizer='adam', loss='categorical_crossentropy', metrics=['accuracy'])\n",
        "model2.compile(optimizer='adam', loss='categorical_crossentropy', metrics=['acc'])\n",
        "model2.summary()"
      ],
      "execution_count": 69,
      "outputs": [
        {
          "output_type": "stream",
          "text": [
            "Model: \"model_4\"\n",
            "__________________________________________________________________________________________________\n",
            "Layer (type)                    Output Shape         Param #     Connected to                     \n",
            "==================================================================================================\n",
            "input_5 (InputLayer)            [(None, 100, 21)]    0                                            \n",
            "__________________________________________________________________________________________________\n",
            "conv1d_10 (Conv1D)              (None, 100, 128)     2816        input_5[0][0]                    \n",
            "__________________________________________________________________________________________________\n",
            "batch_normalization_8 (BatchNor (None, 100, 128)     512         conv1d_10[0][0]                  \n",
            "__________________________________________________________________________________________________\n",
            "activation_8 (Activation)       (None, 100, 128)     0           batch_normalization_8[0][0]      \n",
            "__________________________________________________________________________________________________\n",
            "conv1d_11 (Conv1D)              (None, 100, 128)     16512       activation_8[0][0]               \n",
            "__________________________________________________________________________________________________\n",
            "batch_normalization_9 (BatchNor (None, 100, 128)     512         conv1d_11[0][0]                  \n",
            "__________________________________________________________________________________________________\n",
            "activation_9 (Activation)       (None, 100, 128)     0           batch_normalization_9[0][0]      \n",
            "__________________________________________________________________________________________________\n",
            "conv1d_12 (Conv1D)              (None, 100, 128)     49280       activation_9[0][0]               \n",
            "__________________________________________________________________________________________________\n",
            "add_4 (Add)                     (None, 100, 128)     0           conv1d_12[0][0]                  \n",
            "                                                                 conv1d_10[0][0]                  \n",
            "__________________________________________________________________________________________________\n",
            "batch_normalization_10 (BatchNo (None, 100, 128)     512         add_4[0][0]                      \n",
            "__________________________________________________________________________________________________\n",
            "activation_10 (Activation)      (None, 100, 128)     0           batch_normalization_10[0][0]     \n",
            "__________________________________________________________________________________________________\n",
            "conv1d_13 (Conv1D)              (None, 100, 128)     16512       activation_10[0][0]              \n",
            "__________________________________________________________________________________________________\n",
            "batch_normalization_11 (BatchNo (None, 100, 128)     512         conv1d_13[0][0]                  \n",
            "__________________________________________________________________________________________________\n",
            "activation_11 (Activation)      (None, 100, 128)     0           batch_normalization_11[0][0]     \n",
            "__________________________________________________________________________________________________\n",
            "conv1d_14 (Conv1D)              (None, 100, 128)     49280       activation_11[0][0]              \n",
            "__________________________________________________________________________________________________\n",
            "add_5 (Add)                     (None, 100, 128)     0           conv1d_14[0][0]                  \n",
            "                                                                 add_4[0][0]                      \n",
            "__________________________________________________________________________________________________\n",
            "max_pooling1d_2 (MaxPooling1D)  (None, 33, 128)      0           add_5[0][0]                      \n",
            "__________________________________________________________________________________________________\n",
            "dropout_4 (Dropout)             (None, 33, 128)      0           max_pooling1d_2[0][0]            \n",
            "__________________________________________________________________________________________________\n",
            "flatten_2 (Flatten)             (None, 4224)         0           dropout_4[0][0]                  \n",
            "__________________________________________________________________________________________________\n",
            "dense_4 (Dense)                 (None, 1000)         4225000     flatten_2[0][0]                  \n",
            "==================================================================================================\n",
            "Total params: 4,361,448\n",
            "Trainable params: 4,360,424\n",
            "Non-trainable params: 1,024\n",
            "__________________________________________________________________________________________________\n"
          ],
          "name": "stdout"
        }
      ]
    },
    {
      "cell_type": "code",
      "metadata": {
        "id": "NGqN36HGI-5A"
      },
      "source": [
        "es = EarlyStopping(monitor='val_loss', patience=3, verbose=1)"
      ],
      "execution_count": 70,
      "outputs": []
    },
    {
      "cell_type": "code",
      "metadata": {
        "colab": {
          "base_uri": "https://localhost:8080/"
        },
        "id": "FNz2f6pvI-5K",
        "outputId": "2722aad5-5cef-469b-bae5-c2ada81d3f53"
      },
      "source": [
        "history2 = model2.fit(\n",
        "    train_ohe, y_train,\n",
        "    epochs=10, batch_size=256,\n",
        "    validation_data=(val_ohe, y_val),\n",
        "    callbacks=[es]\n",
        "    )"
      ],
      "execution_count": 71,
      "outputs": [
        {
          "output_type": "stream",
          "text": [
            "Epoch 1/10\n",
            "1738/1738 [==============================] - 36s 20ms/step - loss: 1.6739 - acc: 0.8274 - val_loss: 0.4631 - val_acc: 0.9836\n",
            "Epoch 2/10\n",
            "1738/1738 [==============================] - 35s 20ms/step - loss: 0.4259 - acc: 0.9822 - val_loss: 0.4469 - val_acc: 0.9853\n",
            "Epoch 3/10\n",
            "1738/1738 [==============================] - 34s 20ms/step - loss: 0.4146 - acc: 0.9842 - val_loss: 0.4445 - val_acc: 0.9850\n",
            "Epoch 4/10\n",
            "1738/1738 [==============================] - 35s 20ms/step - loss: 0.4031 - acc: 0.9856 - val_loss: 0.4396 - val_acc: 0.9851\n",
            "Epoch 5/10\n",
            "1738/1738 [==============================] - 35s 20ms/step - loss: 0.4003 - acc: 0.9856 - val_loss: 0.4251 - val_acc: 0.9862\n",
            "Epoch 6/10\n",
            "1738/1738 [==============================] - 35s 20ms/step - loss: 0.3897 - acc: 0.9865 - val_loss: 0.4216 - val_acc: 0.9862\n",
            "Epoch 7/10\n",
            "1738/1738 [==============================] - 35s 20ms/step - loss: 0.3844 - acc: 0.9864 - val_loss: 0.4104 - val_acc: 0.9867\n",
            "Epoch 8/10\n",
            "1738/1738 [==============================] - 35s 20ms/step - loss: 0.3759 - acc: 0.9870 - val_loss: 0.4112 - val_acc: 0.9866\n",
            "Epoch 9/10\n",
            "1738/1738 [==============================] - 35s 20ms/step - loss: 0.3733 - acc: 0.9872 - val_loss: 0.4018 - val_acc: 0.9875\n",
            "Epoch 10/10\n",
            "1738/1738 [==============================] - 34s 20ms/step - loss: 0.3705 - acc: 0.9873 - val_loss: 0.3965 - val_acc: 0.9874\n"
          ],
          "name": "stdout"
        }
      ]
    },
    {
      "cell_type": "code",
      "metadata": {
        "id": "h83QSwj9I-5O"
      },
      "source": [
        "model2.save_weights('/content/gdrive/My Drive/Case_Study/pfam/random_split/model2.h5')"
      ],
      "execution_count": 72,
      "outputs": []
    },
    {
      "cell_type": "code",
      "metadata": {
        "colab": {
          "base_uri": "https://localhost:8080/",
          "height": 337
        },
        "id": "1cfKMCBiI-5Q",
        "outputId": "9dbc80ad-b685-4afe-fb95-fbcdd2a9147c"
      },
      "source": [
        "plot_history(history2)"
      ],
      "execution_count": 73,
      "outputs": [
        {
          "output_type": "display_data",
          "data": {
            "image/png": "[encoded data removed]",
            "text/plain": [
              "<Figure size 864x360 with 2 Axes>"
            ]
          },
          "metadata": {
            "tags": []
          }
        }
      ]
    },
    {
      "cell_type": "code",
      "metadata": {
        "colab": {
          "base_uri": "https://localhost:8080/"
        },
        "id": "3sYrB6Q4I-5V",
        "outputId": "21a81d4e-1bd1-42e0-9276-3acbace63dba"
      },
      "source": [
        "display_model_score(\n",
        "    model2,\n",
        "    [train_ohe, y_train],\n",
        "    [val_ohe, y_val],\n",
        "    [test_ohe, y_test],\n",
        "    256)"
      ],
      "execution_count": 74,
      "outputs": [
         {
          "output_type": "stream",
          "text": [
            "1738/1738 [==============================] - 18s 11ms/step - loss: 0.3484 - acc: 0.9689\n",
            "Train loss:  0.34835612773895264\n",
            "Train accuracy:  0.9688653349876404\n",
            "----------------------------------------------------------------------\n",
            "213/213 [==============================] - 2s 11ms/step - loss: 0.3698 - acc: 0.9626\n",
            "Val loss:  0.36980682611465454\n",
            "Val accuracy:  0.962558388710022\n",
            "----------------------------------------------------------------------\n",
            "213/213 [==============================] - 2s 11ms/step - loss: 0.3732 - acc: 0.9619\n",
            "Test loss:  0.3732147216796875\n",
            "Test accuracy:  0.9618595838546753\n"
          ],
          "name": "stdout"
        }
      ]
    },
    {
      "cell_type": "code",
      "metadata": {
        "colab": {
          "base_uri": "https://localhost:8080/"
        },
        "id": "8oz-p68QI-5a",
        "outputId": "fdf99aee-f242-4364-b595-9d5000ff4a03"
      },
      "source": [
        "x = PrettyTable()\n",
        "x.field_names = ['Sr.no', 'Model', 'Train Acc', 'Val Acc','Test Acc']\n",
        "\n",
        "x.add_row(['1.', 'RNNEDT', '0.968', '0.962', '0.961'])\n",
        "x.add_row(['3.', 'Bidirectional LSTM', '0.964', '0.957', '0.958'])\n",
        "\n",
        "print(x)"
      ],
      "execution_count": 76,
      "outputs": [
        {
          "output_type": "stream",
          "text": [
            "+-------+--------------------+-----------+---------+----------+\n",
            "| Sr.no |       Model        | Train Acc | Val Acc | Test Acc |\n",
            "+-------+--------------------+-----------+---------+----------+\n",
            "|   1.  |       RNNEDT       |   0.968   |  0.962  |  0.961   |\n",
            "|   3.  | Bidirectional LSTM |   0.964   |  0.957  |  0.958   |\n",
            "+-------+--------------------+-----------+---------+----------+\n"
          ],
          "name": "stdout"
        }
      ]
    },
    {
      "cell_type": "code",
      "metadata": {
        "id": "swhFGvKru_yh"
      },
      "source": [
        ""
      ],
      "execution_count": null,
      "outputs": []
    }
  ]
}
